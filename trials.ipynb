{
 "cells": [
  {
   "cell_type": "code",
   "execution_count": null,
   "metadata": {},
   "outputs": [],
   "source": [
    "from groq import Groq\n",
    "API_KEY = \"key\"\n",
    "client = Groq(api_key=API_KEY)"
   ]
  },
  {
   "cell_type": "code",
   "execution_count": null,
   "metadata": {},
   "outputs": [],
   "source": [
    "import base64\n",
    "\n",
    "# Load the image and encode it to Base64\n",
    "with open(r'pathTo\\output.png', 'rb') as image_file:\n",
    "    encoded_image = base64.b64encode(image_file.read()).decode('utf-8')\n",
    "\n",
    "completion = client.chat.completions.create(\n",
    "    model=\"llava-v1.5-7b-4096-preview\",\n",
    "    messages=[\n",
    "        {\n",
    "            \"role\": \"user\",\n",
    "            \"content\": [\n",
    "                {\n",
    "                    \"type\": \"text\",\n",
    "                    \"text\": \"Rate the severity of the acne in this image.\"\n",
    "                },\n",
    "                {\n",
    "                    \"type\": \"image_data\",\n",
    "                    \"image_data\": {\n",
    "                        \"data\": encoded_image\n",
    "                    }\n",
    "                }\n",
    "            ]\n",
    "        }\n",
    "    ],\n",
    "    temperature=0,\n",
    "    max_tokens=1024,\n",
    "    top_p=1,\n",
    "    stream=False,\n",
    "    stop=None,\n",
    ")\n",
    "\n",
    "print(completion.choices[0].message['content'], category='success')\n"
   ]
  },
  {
   "cell_type": "code",
   "execution_count": null,
   "metadata": {},
   "outputs": [],
   "source": [
    "from gradio_client import Client, handle_file\n",
    "\n",
    "API = \"key\"\n",
    "client = Client(\"maxiw/Qwen2-VL-Detection\")  # Removed api_key\n",
    "\n",
    "# Optionally, if the API key needs to be set separately, check the documentation\n",
    "# client.set_api_key(API)  # Hypothetical function; adjust based on actual library usage\n",
    "\n",
    "result = client.predict(\n",
    "    image=handle_file('pathTo/output.png'),\n",
    "    text_input=\"write some home made ad well as aloepathic remedies for the level of acne in the image\",\n",
    "    system_prompt=\"You are a dermatologist and you are rating the severity of the acne in the image.\",\n",
    "    model_id=\"Qwen/Qwen2-VL-7B-Instruct\",\n",
    "    api_name=\"/run_example\"\n",
    ")\n",
    "\n",
    "print(result[0])\n"
   ]
  },
  {
   "cell_type": "code",
   "execution_count": null,
   "metadata": {},
   "outputs": [],
   "source": []
  }
 ],
 "metadata": {
  "kernelspec": {
   "display_name": "Python 3",
   "language": "python",
   "name": "python3"
  },
  "language_info": {
   "codemirror_mode": {
    "name": "ipython",
    "version": 3
   },
   "file_extension": ".py",
   "mimetype": "text/x-python",
   "name": "python",
   "nbconvert_exporter": "python",
   "pygments_lexer": "ipython3",
   "version": "3.11.6"
  }
 },
 "nbformat": 4,
 "nbformat_minor": 2
}
